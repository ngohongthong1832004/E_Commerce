{
 "cells": [
  {
   "cell_type": "code",
   "execution_count": 11,
   "metadata": {},
   "outputs": [],
   "source": [
    "# %pip install beautifulsoup4"
   ]
  },
  {
   "cell_type": "code",
   "execution_count": 12,
   "metadata": {},
   "outputs": [],
   "source": [
    "import requests\n",
    "import pandas as pd\n",
    "import numpy as np\n",
    "import json \n",
    "from bs4 import BeautifulSoup"
   ]
  },
  {
   "cell_type": "code",
   "execution_count": 13,
   "metadata": {},
   "outputs": [],
   "source": [
    "import requests\n",
    "\n",
    "def get_data():\n",
    "    url = 'https://api.tiki.vn/raiden/v2/menu-config?platform=desktop'\n",
    "    headers = {\n",
    "        'User-Agent': 'Mozilla/5.0 (Windows NT 10.0; Win64; x64) AppleWebKit/537.36 (KHTML, like Gecko) Chrome/91.0.4472.124 Safari/537.36'\n",
    "    }\n",
    "    response = requests.get(url, headers=headers)\n",
    "    \n",
    "    if response.status_code == 403:\n",
    "        print(\"Access Denied (403)\")\n",
    "        return []\n",
    "    \n",
    "    # Parse the JSON response to a Python dictionary\n",
    "    data_dict = response.json()\n",
    "    return data_dict[\"menu_block\"][\"items\"]"
   ]
  },
  {
   "cell_type": "code",
   "execution_count": 14,
   "metadata": {},
   "outputs": [],
   "source": [
    "# write to file csv\n",
    "def write_to_csv(data):\n",
    "    df = pd.DataFrame(data)\n",
    "    df.to_csv('data.csv', index=False)\n",
    "    \n",
    "# write to file json\n",
    "\n",
    "def write_to_json(data):\n",
    "    with open('category.json', 'w') as f:\n",
    "        json.dump(data, f)"
   ]
  },
  {
   "cell_type": "code",
   "execution_count": 15,
   "metadata": {},
   "outputs": [
    {
     "name": "stdout",
     "output_type": "stream",
     "text": [
      "[{'text': 'Nhà Sách Tiki', 'icon_url': 'https://salt.tikicdn.com/ts/category/ed/20/60/afa9b3b474bf7ad70f10dd6443211d5f.png', 'link': 'https://tiki.vn/nha-sach-tiki/c8322'}, {'text': 'Nhà Cửa - Đời Sống', 'icon_url': 'https://salt.tikicdn.com/ts/category/f6/22/46/7e2185d2cf1bca72d5aeac385a865b2b.png', 'link': 'https://tiki.vn/nha-cua-doi-song/c1883'}, {'text': 'Điện Thoại - Máy Tính Bảng', 'icon_url': 'https://salt.tikicdn.com/ts/category/54/c0/ff/fe98a4afa2d3e5142dc8096addc4e40b.png', 'link': 'https://tiki.vn/dien-thoai-may-tinh-bang/c1789'}, {'text': 'Đồ Chơi - Mẹ & Bé', 'icon_url': 'https://salt.tikicdn.com/ts/category/13/64/43/226301adcc7660ffcf44a61bb6df99b7.png', 'link': 'https://tiki.vn/do-choi-me-be/c2549'}, {'text': 'Thiết Bị Số - Phụ Kiện Số', 'icon_url': 'https://salt.tikicdn.com/ts/category/75/34/29/78e428fdd90408587181005f5cc3de32.png', 'link': 'https://tiki.vn/thiet-bi-kts-phu-kien-so/c1815'}, {'text': 'Điện Gia Dụng', 'icon_url': 'https://salt.tikicdn.com/ts/category/61/d4/ea/e6ea3ffc1fcde3b6224d2bb691ea16a2.png', 'link': 'https://tiki.vn/dien-gia-dung/c1882'}, {'text': 'Làm Đẹp - Sức Khỏe', 'icon_url': 'https://salt.tikicdn.com/ts/category/73/0e/89/bf5095601d17f9971d7a08a1ffe98a42.png', 'link': 'https://tiki.vn/lam-dep-suc-khoe/c1520'}, {'text': 'Ô Tô - Xe Máy - Xe Đạp', 'icon_url': 'https://salt.tikicdn.com/ts/category/69/f5/36/c6cd9e2849854630ed74ff1678db8f19.png', 'link': 'https://tiki.vn/o-to-xe-may-xe-dap/c8594'}, {'text': 'Thời trang nữ', 'icon_url': 'https://salt.tikicdn.com/ts/category/55/5b/80/48cbaafe144c25d5065786ecace86d38.png', 'link': 'https://tiki.vn/thoi-trang-nu/c931'}, {'text': 'Bách Hóa Online', 'icon_url': 'https://salt.tikicdn.com/ts/category/40/0f/9b/62a58fd19f540c70fce804e2a9bb5b2d.png', 'link': 'https://tiki.vn/bach-hoa-online/c4384'}, {'text': 'Thể Thao - Dã Ngoại', 'icon_url': 'https://salt.tikicdn.com/ts/category/0b/5e/3d/00941c9eb338ea62a47d5b1e042843d8.png', 'link': 'https://tiki.vn/the-thao-da-ngoai/c1975'}, {'text': 'Thời trang nam', 'icon_url': 'https://salt.tikicdn.com/ts/category/00/5d/97/384ca1a678c4ee93a0886a204f47645d.png', 'link': 'https://tiki.vn/thoi-trang-nam/c915'}, {'text': 'Cross Border - Hàng Quốc Tế', 'icon_url': 'https://salt.tikicdn.com/ts/category/3c/e4/99/eeee1801c838468d94af9997ec2bbe42.png', 'link': 'https://tiki.vn/cross-border-hang-quoc-te/c17166'}, {'text': 'Laptop - Máy Vi Tính - Linh kiện', 'icon_url': 'https://salt.tikicdn.com/ts/category/92/b5/c0/3ffdb7dbfafd5f8330783e1df20747f6.png', 'link': 'https://tiki.vn/laptop-may-vi-tinh-linh-kien/c1846'}, {'text': 'Giày - Dép nam', 'icon_url': 'https://salt.tikicdn.com/ts/category/d6/7f/6c/5d53b60efb9448b6a1609c825c29fa40.png', 'link': 'https://tiki.vn/giay-dep-nam/c1686'}, {'text': 'Điện Tử - Điện Lạnh', 'icon_url': 'https://salt.tikicdn.com/ts/category/c8/82/d4/64c561c4ced585c74b9c292208e4995a.png', 'link': 'https://tiki.vn/dien-tu-dien-lanh/c4221'}, {'text': 'Giày - Dép nữ', 'icon_url': 'https://salt.tikicdn.com/ts/category/cf/ed/e1/5a6b58f21fbcad0d201480c987f8defe.png', 'link': 'https://tiki.vn/giay-dep-nu/c1703'}, {'text': 'Máy Ảnh - Máy Quay Phim', 'icon_url': 'https://salt.tikicdn.com/ts/category/2d/7c/45/e4976f3fa4061ab310c11d2a1b759e5b.png', 'link': 'https://tiki.vn/may-anh/c1801'}, {'text': 'Phụ kiện thời trang', 'icon_url': 'https://salt.tikicdn.com/ts/category/ca/53/64/49c6189a0e1c1bf7cb91b01ff6d3fe43.png', 'link': 'https://tiki.vn/phu-kien-thoi-trang/c27498'}, {'text': 'NGON', 'icon_url': 'https://salt.tikicdn.com/ts/category/1e/8c/08/d8b02f8a0d958c74539316e8cd437cbd.png', 'link': 'https://tiki.vn/ngon/c44792'}, {'text': 'Đồng hồ và Trang sức', 'icon_url': 'https://salt.tikicdn.com/ts/category/8b/d4/a8/5924758b5c36f3b1c43b6843f52d6dd2.png', 'link': 'https://tiki.vn/dong-ho-va-trang-suc/c8371'}, {'text': 'Balo và Vali', 'icon_url': 'https://salt.tikicdn.com/ts/category/3e/c0/30/1110651bd36a3e0d9b962cf135c818ee.png', 'link': 'https://tiki.vn/balo-va-vali/c6000'}, {'text': 'Voucher - Dịch vụ', 'icon_url': 'https://salt.tikicdn.com/ts/category/0a/c9/7b/8e466bdf6d4a5f5e14665ce56e58631d.png', 'link': 'https://tiki.vn/voucher-dich-vu/c11312'}, {'text': 'Túi thời trang nữ', 'icon_url': 'https://salt.tikicdn.com/ts/category/31/a7/94/6524d2ecbec216816d91b6066452e3f2.png', 'link': 'https://tiki.vn/tui-vi-nu/c976'}, {'text': 'Túi thời trang nam', 'icon_url': 'https://salt.tikicdn.com/ts/category/9b/31/af/669e6a133118e5439d6c175e27c1f963.png', 'link': 'https://tiki.vn/tui-thoi-trang-nam/c27616'}, {'text': 'Chăm sóc nhà cửa', 'icon_url': 'https://salt.tikicdn.com/assets/img/image.svg', 'link': 'https://tiki.vn/cham-soc-nha-cua/c15078'}]\n"
     ]
    }
   ],
   "source": [
    "def main():\n",
    "    data = get_data()\n",
    "    \n",
    "    print(data)\n",
    "    \n",
    "    write_to_csv(data)\n",
    "    # write_to_json(data)\n",
    "main()"
   ]
  },
  {
   "cell_type": "code",
   "execution_count": null,
   "metadata": {},
   "outputs": [],
   "source": []
  },
  {
   "cell_type": "code",
   "execution_count": null,
   "metadata": {},
   "outputs": [],
   "source": []
  }
 ],
 "metadata": {
  "kernelspec": {
   "display_name": "Python 3",
   "language": "python",
   "name": "python3"
  },
  "language_info": {
   "codemirror_mode": {
    "name": "ipython",
    "version": 3
   },
   "file_extension": ".py",
   "mimetype": "text/x-python",
   "name": "python",
   "nbconvert_exporter": "python",
   "pygments_lexer": "ipython3",
   "version": "3.10.11"
  }
 },
 "nbformat": 4,
 "nbformat_minor": 2
}
